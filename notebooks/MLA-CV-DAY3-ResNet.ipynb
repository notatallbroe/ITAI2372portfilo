{
  "cells": [
    {
      "cell_type": "markdown",
      "metadata": {
        "id": "29-YOTK6Q0dO"
      },
      "source": [
        "![MLU Logo](https://github.com/aws-samples/aws-machine-learning-university-accelerated-cv/blob/main/data/MLU_Logo.png?raw=1)"
      ]
    },
    {
      "cell_type": "markdown",
      "metadata": {
        "id": "IDsRVvWCQ0dP"
      },
      "source": [
        "# <a name=\"0\">Machine Learning Accelerator - Computer Vision - Lecture 3</a>\n",
        "\n",
        "\n",
        "## Inference with Pre-trained ResNet Model\n",
        "\n",
        "In this notebook, we use pre-trained [ResNet](https://d2l.ai/chapter_convolutional-modern/resnet.html) with only a few lines of code.\n",
        "\n",
        "1. <a href=\"#1\">Downloading a Pretrained Model</a>      \n",
        "2. <a href=\"#2\">Preprocessing an Image</a>\n",
        "3. <a href=\"#3\">Using ResNet50 for Inference</a>\n",
        "    "
      ]
    },
    {
      "cell_type": "code",
      "execution_count": 1,
      "metadata": {
        "tags": [],
        "id": "vUCB-SswQ0dP"
      },
      "outputs": [],
      "source": [
        "%%capture\n",
        "!pip install -q -r ../requirements.txt"
      ]
    },
    {
      "cell_type": "markdown",
      "metadata": {
        "id": "3Za6luDPQ0dQ"
      },
      "source": [
        "Let's import the necessary libraries:"
      ]
    },
    {
      "cell_type": "code",
      "execution_count": 2,
      "metadata": {
        "tags": [],
        "id": "iJTJKtBAQ0dQ"
      },
      "outputs": [],
      "source": [
        "%matplotlib inline\n",
        "import matplotlib.pyplot as plt\n",
        "from PIL import Image\n",
        "from matplotlib.image import imread\n",
        "import torch\n",
        "import torchvision\n",
        "from torchvision import transforms"
      ]
    },
    {
      "cell_type": "markdown",
      "metadata": {
        "id": "b8J0Ly2oQ0dQ"
      },
      "source": [
        "## 1. <a name=\"1\">Downloading a Pretrained Model</a>\n",
        "(<a href=\"#0\">Go to top</a>)\n",
        "\n",
        "With torchvision, we will start with a ResNet 50 neural net trained on ImageNet dataset as our base model. By specifying\n",
        "`pretrained=True`, it will automatically download the model from the model\n",
        "zoo if necessary. For more pretrained models, please refer to [torchvision Model Zoo](https://pytorch.org/docs/stable/torchvision/models.html)."
      ]
    },
    {
      "cell_type": "code",
      "execution_count": 3,
      "metadata": {
        "tags": [],
        "id": "iVnArOnDQ0dQ",
        "outputId": "236bd041-a222-48f6-e2e9-aaf9bcc5d857",
        "colab": {
          "base_uri": "https://localhost:8080/"
        }
      },
      "outputs": [
        {
          "output_type": "stream",
          "name": "stderr",
          "text": [
            "Downloading: \"https://download.pytorch.org/models/resnet50-0676ba61.pth\" to /root/.cache/torch/hub/checkpoints/resnet50-0676ba61.pth\n",
            "100%|██████████| 97.8M/97.8M [00:02<00:00, 46.4MB/s]\n"
          ]
        }
      ],
      "source": [
        "from torchvision.models import ResNet50_Weights\n",
        "net = torchvision.models.resnet50(weights=ResNet50_Weights.IMAGENET1K_V1)"
      ]
    },
    {
      "cell_type": "markdown",
      "metadata": {
        "id": "QehzNS-5Q0dR"
      },
      "source": [
        "## 2. <a name=\"2\">Pre-processing an Image</a>\n",
        "(<a href=\"#0\">Go to top</a>)\n",
        "\n",
        "Next we read a sample image, and pre-process it with preset data transforms `transform_eval`."
      ]
    },
    {
      "cell_type": "code",
      "execution_count": 4,
      "metadata": {
        "tags": [],
        "id": "9imZIqRLQ0dR",
        "outputId": "5acc40e3-71fe-489d-e763-b42b64daefb7",
        "colab": {
          "base_uri": "https://localhost:8080/",
          "height": 341
        }
      },
      "outputs": [
        {
          "output_type": "error",
          "ename": "FileNotFoundError",
          "evalue": "[Errno 2] No such file or directory: '../data/catdog.png'",
          "traceback": [
            "\u001b[0;31m---------------------------------------------------------------------------\u001b[0m",
            "\u001b[0;31mFileNotFoundError\u001b[0m                         Traceback (most recent call last)",
            "\u001b[0;32m<ipython-input-4-dd0979d61614>\u001b[0m in \u001b[0;36m<cell line: 0>\u001b[0;34m()\u001b[0m\n\u001b[1;32m      2\u001b[0m \u001b[0;31m# im2 = imread(train_path + \"/vg/0.jpg\")\u001b[0m\u001b[0;34m\u001b[0m\u001b[0;34m\u001b[0m\u001b[0m\n\u001b[1;32m      3\u001b[0m \u001b[0;34m\u001b[0m\u001b[0m\n\u001b[0;32m----> 4\u001b[0;31m \u001b[0mimg_raw\u001b[0m \u001b[0;34m=\u001b[0m \u001b[0mImage\u001b[0m\u001b[0;34m.\u001b[0m\u001b[0mopen\u001b[0m\u001b[0;34m(\u001b[0m\u001b[0;34m'../data/catdog.png'\u001b[0m\u001b[0;34m)\u001b[0m\u001b[0;34m.\u001b[0m\u001b[0mconvert\u001b[0m\u001b[0;34m(\u001b[0m\u001b[0;34m'RGB'\u001b[0m\u001b[0;34m)\u001b[0m\u001b[0;34m\u001b[0m\u001b[0;34m\u001b[0m\u001b[0m\n\u001b[0m\u001b[1;32m      5\u001b[0m transform_eval = transforms.Compose([\n\u001b[1;32m      6\u001b[0m     \u001b[0mtransforms\u001b[0m\u001b[0;34m.\u001b[0m\u001b[0mResize\u001b[0m\u001b[0;34m(\u001b[0m\u001b[0;36m256\u001b[0m\u001b[0;34m)\u001b[0m\u001b[0;34m,\u001b[0m\u001b[0;34m\u001b[0m\u001b[0;34m\u001b[0m\u001b[0m\n",
            "\u001b[0;32m/usr/local/lib/python3.11/dist-packages/PIL/Image.py\u001b[0m in \u001b[0;36mopen\u001b[0;34m(fp, mode, formats)\u001b[0m\n\u001b[1;32m   3463\u001b[0m \u001b[0;34m\u001b[0m\u001b[0m\n\u001b[1;32m   3464\u001b[0m     \u001b[0;32mif\u001b[0m \u001b[0mfilename\u001b[0m\u001b[0;34m:\u001b[0m\u001b[0;34m\u001b[0m\u001b[0;34m\u001b[0m\u001b[0m\n\u001b[0;32m-> 3465\u001b[0;31m         \u001b[0mfp\u001b[0m \u001b[0;34m=\u001b[0m \u001b[0mbuiltins\u001b[0m\u001b[0;34m.\u001b[0m\u001b[0mopen\u001b[0m\u001b[0;34m(\u001b[0m\u001b[0mfilename\u001b[0m\u001b[0;34m,\u001b[0m \u001b[0;34m\"rb\"\u001b[0m\u001b[0;34m)\u001b[0m\u001b[0;34m\u001b[0m\u001b[0;34m\u001b[0m\u001b[0m\n\u001b[0m\u001b[1;32m   3466\u001b[0m         \u001b[0mexclusive_fp\u001b[0m \u001b[0;34m=\u001b[0m \u001b[0;32mTrue\u001b[0m\u001b[0;34m\u001b[0m\u001b[0;34m\u001b[0m\u001b[0m\n\u001b[1;32m   3467\u001b[0m     \u001b[0;32melse\u001b[0m\u001b[0;34m:\u001b[0m\u001b[0;34m\u001b[0m\u001b[0;34m\u001b[0m\u001b[0m\n",
            "\u001b[0;31mFileNotFoundError\u001b[0m: [Errno 2] No such file or directory: '../data/catdog.png'"
          ]
        }
      ],
      "source": [
        "# im1 = imread(train_path + \"/sw/0.jpg\")\n",
        "# im2 = imread(train_path + \"/vg/0.jpg\")\n",
        "\n",
        "img_raw = Image.open('../data/catdog.png').convert('RGB')\n",
        "transform_eval = transforms.Compose([\n",
        "    transforms.Resize(256),\n",
        "    transforms.CenterCrop(224),\n",
        "    transforms.ToTensor(),\n",
        "    transforms.Normalize(mean=[0.485, 0.456, 0.406],\n",
        "                         std=[0.229, 0.224, 0.225])\n",
        "])\n",
        "\n",
        "img = transform_eval(img_raw)\n",
        "plt.imshow(img.permute(1,2,0).numpy())"
      ]
    },
    {
      "cell_type": "markdown",
      "metadata": {
        "id": "llkNzk-NQ0dR"
      },
      "source": [
        "## 3. <a name=\"3\">Inference Using ResNet50</a>\n",
        "(<a href=\"#0\">Go to top</a>)\n",
        "\n",
        "Now let's generate the predictions from the pretrained ResNet50.\n",
        "`pred` will be a list of ndarray, where each ndarray is of length 1000.\n",
        "Each number of this 1000-length ndarray can be applied `softmax` to\n",
        "represent the prediction confidence towards each of the [subject classes in ImageNet](http://image-net.org/explore)."
      ]
    },
    {
      "cell_type": "code",
      "execution_count": null,
      "metadata": {
        "tags": [],
        "id": "O2-3tdPGQ0dS"
      },
      "outputs": [],
      "source": [
        "net.eval()\n",
        "pred = net(img.unsqueeze(0))\n",
        "len(pred[0])"
      ]
    },
    {
      "cell_type": "markdown",
      "metadata": {
        "id": "2pBEucZgQ0dS"
      },
      "source": [
        "To access all the existing classes of ImageNet, pytorch doesn't offer an in-built function. So we use json to load an external list which has a mapping for the ImageNet classes to the indices. Let's take a look of the first 5 classes!"
      ]
    },
    {
      "cell_type": "code",
      "execution_count": null,
      "metadata": {
        "tags": [],
        "id": "hmVYR-KAQ0dS"
      },
      "outputs": [],
      "source": [
        "import json\n",
        "\n",
        "with open(\"../data/imagenet_idx_to_class.json\", \"r\") as f:\n",
        "    classes = json.load(f)\n",
        "\n",
        "classes[:5]"
      ]
    },
    {
      "cell_type": "markdown",
      "metadata": {
        "id": "4jwf5Ez4Q0dS"
      },
      "source": [
        "Now let's see how does the model think of our input test image?!"
      ]
    },
    {
      "cell_type": "code",
      "execution_count": null,
      "metadata": {
        "tags": [],
        "id": "4PAnz5_OQ0dS"
      },
      "outputs": [],
      "source": [
        "topK = 5\n",
        "conf, ind = torch.topk(pred.squeeze(0), k=topK)\n",
        "ind = ind.squeeze(0).numpy()\n",
        "print('The input picture is classified to be')\n",
        "for i in range(topK):\n",
        "    print('\\t[%s], with probability %.3f.'%\n",
        "          (classes[ind[i]], torch.softmax(pred.squeeze(0), dim=0)[ind[i]].item()))"
      ]
    },
    {
      "cell_type": "markdown",
      "metadata": {
        "id": "wg9IDB7TQ0dS"
      },
      "source": [
        "Feel free to download and try other ResNet versions (ResNet18, ResNet101, ResNet152, etc.) in your own experiment. What is more, try to fineture on other datasets to see if you can improve the model performance."
      ]
    }
  ],
  "metadata": {
    "kernelspec": {
      "display_name": "sagemaker-distribution:Python",
      "language": "python",
      "name": "conda-env-sagemaker-distribution-py"
    },
    "language_info": {
      "codemirror_mode": {
        "name": "ipython",
        "version": 3
      },
      "file_extension": ".py",
      "mimetype": "text/x-python",
      "name": "python",
      "nbconvert_exporter": "python",
      "pygments_lexer": "ipython3",
      "version": "3.10.14"
    },
    "colab": {
      "provenance": []
    }
  },
  "nbformat": 4,
  "nbformat_minor": 0
}